{
 "cells": [
  {
   "cell_type": "code",
   "execution_count": 271,
   "metadata": {},
   "outputs": [],
   "source": [
    "from neo4j import GraphDatabase, basic_auth\n",
    "\n",
    "import pandas as pd"
   ]
  },
  {
   "cell_type": "code",
   "execution_count": 272,
   "metadata": {},
   "outputs": [],
   "source": [
    "# Connect to the database\n",
    "driver = GraphDatabase.driver(\n",
    "    \"bolt://localhost:7687\", auth=basic_auth(\"neo4j\", \"netflixdb\")\n",
    ")"
   ]
  },
  {
   "cell_type": "code",
   "execution_count": null,
   "metadata": {},
   "outputs": [],
   "source": [
    "#test if the server is responding\n",
    "server_info=driver.get_server_info().address\n",
    "print(server_info)"
   ]
  },
  {
   "cell_type": "markdown",
   "metadata": {},
   "source": [
    "Louvain"
   ]
  },
  {
   "cell_type": "code",
   "execution_count": 285,
   "metadata": {},
   "outputs": [],
   "source": [
    "create_projection_query = \"\"\"\n",
    "CALL gds.graph.project(\n",
    "    'movieGraph',\n",
    "    ['Movie', 'Customer'],\n",
    "    {\n",
    "        HAS_WATCHED: {\n",
    "            properties: ['rating']\n",
    "        }\n",
    "    }\n",
    ")\n",
    "\"\"\"\n",
    "\n",
    "with driver.session(database=\"neo4j\") as session:\n",
    "    \n",
    "    session.run(create_projection_query)"
   ]
  },
  {
   "cell_type": "code",
   "execution_count": null,
   "metadata": {},
   "outputs": [],
   "source": [
    "compute_query = \"\"\"\n",
    "CALL gds.louvain.write(\n",
    "  'movieGraph',\n",
    "  {writeProperty: 'louvain_community',\n",
    "  relationshipWeightProperty: 'rating'}\n",
    ")\n",
    "YIELD\n",
    "nodePropertiesWritten\n",
    "\"\"\"\n",
    "\n",
    "# result_query = \"\"\"\n",
    "# MATCH (m:Movie)\n",
    "# RETURN m.title, m.louvain_community AS community\n",
    "# ORDER BY community DESC\n",
    "# LIMIT 150\n",
    "# \"\"\"\n",
    "\n",
    "\n",
    "with driver.session(database=\"neo4j\") as session:\n",
    "    # Compute Louvain and set communities to Movie nodes\n",
    "    session.run(compute_query)"
   ]
  }
 ],
 "metadata": {
  "kernelspec": {
   "display_name": "netflix",
   "language": "python",
   "name": "python3"
  },
  "language_info": {
   "codemirror_mode": {
    "name": "ipython",
    "version": 3
   },
   "file_extension": ".py",
   "mimetype": "text/x-python",
   "name": "python",
   "nbconvert_exporter": "python",
   "pygments_lexer": "ipython3",
   "version": "3.10.15"
  }
 },
 "nbformat": 4,
 "nbformat_minor": 2
}
