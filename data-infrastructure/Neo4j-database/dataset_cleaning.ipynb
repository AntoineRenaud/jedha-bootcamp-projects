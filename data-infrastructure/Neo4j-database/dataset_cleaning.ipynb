{
 "cells": [
  {
   "cell_type": "code",
   "execution_count": 1,
   "metadata": {},
   "outputs": [],
   "source": [
    "import pandas as pd"
   ]
  },
  {
   "cell_type": "markdown",
   "metadata": {},
   "source": [
    "# Data cleaning"
   ]
  },
  {
   "cell_type": "markdown",
   "metadata": {},
   "source": [
    "## Movie_titles cleaning"
   ]
  },
  {
   "cell_type": "code",
   "execution_count": 2,
   "metadata": {},
   "outputs": [
    {
     "name": "stderr",
     "output_type": "stream",
     "text": [
      "C:\\Users\\renau\\AppData\\Local\\Temp\\ipykernel_212756\\6465067.py:6: ParserWarning: Length of header or names does not match length of data. This leads to a loss of data with index_col=False.\n",
      "  movie_titles_df = pd.read_csv(\n"
     ]
    }
   ],
   "source": [
    "def manual_separation(bad_line):\n",
    "    right_split = bad_line[:-2] + [\",\".join(bad_line[-2:])] # All the \"bad lines\" where all coming from the same last column that was containing \",\"\n",
    "    return right_split\n",
    "\n",
    "\n",
    "movie_titles_df = pd.read_csv(\n",
    "        \"src/movie_titles.csv\", \n",
    "        header=None,\n",
    "        encoding=\"ISO-8859-1\",\n",
    "        names = ['Movie_Id', 'Year', 'Title'], \n",
    "        # index_col=['movie_id'],\n",
    "        on_bad_lines=manual_separation,\n",
    "        engine=\"python\",\n",
    "    ) "
   ]
  },
  {
   "cell_type": "code",
   "execution_count": 3,
   "metadata": {},
   "outputs": [
    {
     "name": "stdout",
     "output_type": "stream",
     "text": [
      "(17770, 3)\n"
     ]
    },
    {
     "data": {
      "text/html": [
       "<div>\n",
       "<style scoped>\n",
       "    .dataframe tbody tr th:only-of-type {\n",
       "        vertical-align: middle;\n",
       "    }\n",
       "\n",
       "    .dataframe tbody tr th {\n",
       "        vertical-align: top;\n",
       "    }\n",
       "\n",
       "    .dataframe thead th {\n",
       "        text-align: right;\n",
       "    }\n",
       "</style>\n",
       "<table border=\"1\" class=\"dataframe\">\n",
       "  <thead>\n",
       "    <tr style=\"text-align: right;\">\n",
       "      <th></th>\n",
       "      <th>Movie_Id</th>\n",
       "      <th>Year</th>\n",
       "      <th>Title</th>\n",
       "    </tr>\n",
       "  </thead>\n",
       "  <tbody>\n",
       "    <tr>\n",
       "      <th>0</th>\n",
       "      <td>1</td>\n",
       "      <td>2003.0</td>\n",
       "      <td>Dinosaur Planet</td>\n",
       "    </tr>\n",
       "    <tr>\n",
       "      <th>1</th>\n",
       "      <td>2</td>\n",
       "      <td>2004.0</td>\n",
       "      <td>Isle of Man TT 2004 Review</td>\n",
       "    </tr>\n",
       "    <tr>\n",
       "      <th>2</th>\n",
       "      <td>3</td>\n",
       "      <td>1997.0</td>\n",
       "      <td>Character</td>\n",
       "    </tr>\n",
       "    <tr>\n",
       "      <th>3</th>\n",
       "      <td>4</td>\n",
       "      <td>1994.0</td>\n",
       "      <td>Paula Abdul's Get Up &amp; Dance</td>\n",
       "    </tr>\n",
       "    <tr>\n",
       "      <th>4</th>\n",
       "      <td>5</td>\n",
       "      <td>2004.0</td>\n",
       "      <td>The Rise and Fall of ECW</td>\n",
       "    </tr>\n",
       "  </tbody>\n",
       "</table>\n",
       "</div>"
      ],
      "text/plain": [
       "   Movie_Id    Year                         Title\n",
       "0         1  2003.0               Dinosaur Planet\n",
       "1         2  2004.0    Isle of Man TT 2004 Review\n",
       "2         3  1997.0                     Character\n",
       "3         4  1994.0  Paula Abdul's Get Up & Dance\n",
       "4         5  2004.0      The Rise and Fall of ECW"
      ]
     },
     "metadata": {},
     "output_type": "display_data"
    },
    {
     "data": {
      "text/html": [
       "<div>\n",
       "<style scoped>\n",
       "    .dataframe tbody tr th:only-of-type {\n",
       "        vertical-align: middle;\n",
       "    }\n",
       "\n",
       "    .dataframe tbody tr th {\n",
       "        vertical-align: top;\n",
       "    }\n",
       "\n",
       "    .dataframe thead th {\n",
       "        text-align: right;\n",
       "    }\n",
       "</style>\n",
       "<table border=\"1\" class=\"dataframe\">\n",
       "  <thead>\n",
       "    <tr style=\"text-align: right;\">\n",
       "      <th></th>\n",
       "      <th>Movie_Id</th>\n",
       "      <th>Year</th>\n",
       "    </tr>\n",
       "  </thead>\n",
       "  <tbody>\n",
       "    <tr>\n",
       "      <th>count</th>\n",
       "      <td>17770.000000</td>\n",
       "      <td>17763.000000</td>\n",
       "    </tr>\n",
       "    <tr>\n",
       "      <th>mean</th>\n",
       "      <td>8885.500000</td>\n",
       "      <td>1990.263694</td>\n",
       "    </tr>\n",
       "    <tr>\n",
       "      <th>std</th>\n",
       "      <td>5129.901477</td>\n",
       "      <td>16.507891</td>\n",
       "    </tr>\n",
       "    <tr>\n",
       "      <th>min</th>\n",
       "      <td>1.000000</td>\n",
       "      <td>1896.000000</td>\n",
       "    </tr>\n",
       "    <tr>\n",
       "      <th>25%</th>\n",
       "      <td>4443.250000</td>\n",
       "      <td>1985.000000</td>\n",
       "    </tr>\n",
       "    <tr>\n",
       "      <th>50%</th>\n",
       "      <td>8885.500000</td>\n",
       "      <td>1997.000000</td>\n",
       "    </tr>\n",
       "    <tr>\n",
       "      <th>75%</th>\n",
       "      <td>13327.750000</td>\n",
       "      <td>2002.000000</td>\n",
       "    </tr>\n",
       "    <tr>\n",
       "      <th>max</th>\n",
       "      <td>17770.000000</td>\n",
       "      <td>2005.000000</td>\n",
       "    </tr>\n",
       "  </tbody>\n",
       "</table>\n",
       "</div>"
      ],
      "text/plain": [
       "           Movie_Id          Year\n",
       "count  17770.000000  17763.000000\n",
       "mean    8885.500000   1990.263694\n",
       "std     5129.901477     16.507891\n",
       "min        1.000000   1896.000000\n",
       "25%     4443.250000   1985.000000\n",
       "50%     8885.500000   1997.000000\n",
       "75%    13327.750000   2002.000000\n",
       "max    17770.000000   2005.000000"
      ]
     },
     "metadata": {},
     "output_type": "display_data"
    },
    {
     "name": "stdout",
     "output_type": "stream",
     "text": [
      "Percentage of missing values\n",
      "\n",
      "Movie_Id    0.000000\n",
      "Year        0.039392\n",
      "Title       0.000000\n",
      "dtype: float64\n"
     ]
    }
   ],
   "source": [
    "print(movie_titles_df.shape)\n",
    "\n",
    "display(movie_titles_df.head())\n",
    "\n",
    "display(movie_titles_df.describe())\n",
    "\n",
    "print(\"Percentage of missing values\\n\")\n",
    "print(movie_titles_df.isnull().sum()/len(movie_titles_df)*100)"
   ]
  },
  {
   "cell_type": "markdown",
   "metadata": {},
   "source": [
    "## combined_data cleaning"
   ]
  },
  {
   "cell_type": "code",
   "execution_count": 4,
   "metadata": {},
   "outputs": [],
   "source": [
    "#Import users data files\n",
    "df_users_1 = pd.read_csv('src/combined_data_1.txt', header = None, names = ['Cust_Id', 'Rating'], usecols = [0,1])\n",
    "df_users_2 = pd.read_csv('src/combined_data_2.txt', header = None, names = ['Cust_Id', 'Rating'], usecols = [0,1])\n",
    "df_users_3 = pd.read_csv('src/combined_data_3.txt', header = None, names = ['Cust_Id', 'Rating'], usecols = [0,1])\n",
    "df_users_4 = pd.read_csv('src/combined_data_4.txt', header = None, names = ['Cust_Id', 'Rating'], usecols = [0,1])"
   ]
  },
  {
   "cell_type": "code",
   "execution_count": 5,
   "metadata": {},
   "outputs": [],
   "source": [
    "#concat into one file\n",
    "df_users = pd.concat([df_users_1, df_users_2, df_users_3, df_users_4], axis=0)\n",
    "df_users = df_users.reset_index(drop=True)"
   ]
  },
  {
   "cell_type": "markdown",
   "metadata": {},
   "source": [
    "The data structure is not clean :\n",
    "\n",
    "![alt text](img/screnshot_1.png)\n",
    "\n",
    "It is necessary to get the movie ID as a column."
   ]
  },
  {
   "cell_type": "code",
   "execution_count": 6,
   "metadata": {},
   "outputs": [
    {
     "name": "stderr",
     "output_type": "stream",
     "text": [
      "C:\\Users\\renau\\AppData\\Local\\Temp\\ipykernel_212756\\3631577870.py:3: FutureWarning: A value is trying to be set on a copy of a DataFrame or Series through chained assignment using an inplace method.\n",
      "The behavior will change in pandas 3.0. This inplace method will never work because the intermediate object on which we are setting values always behaves as a copy.\n",
      "\n",
      "For example, when doing 'df[col].method(value, inplace=True)', try using 'df.method({col: value}, inplace=True)' or df[col] = df[col].method(value) instead, to perform the operation inplace on the original object.\n",
      "\n",
      "\n",
      "  df_users['Movie_Id'].fillna(method='ffill', inplace=True)\n",
      "C:\\Users\\renau\\AppData\\Local\\Temp\\ipykernel_212756\\3631577870.py:3: FutureWarning: Series.fillna with 'method' is deprecated and will raise in a future version. Use obj.ffill() or obj.bfill() instead.\n",
      "  df_users['Movie_Id'].fillna(method='ffill', inplace=True)\n"
     ]
    }
   ],
   "source": [
    "#Get the movie_id from the cust_id column, and create a 'Movie_Id' column\n",
    "df_users['Movie_Id'] = df_users[df_users['Rating'].isna()]['Cust_Id'].str.replace(':', '')\n",
    "df_users['Movie_Id'].fillna(method='ffill', inplace=True)\n",
    "df_users.dropna(subset='Rating', inplace=True)"
   ]
  },
  {
   "cell_type": "code",
   "execution_count": 7,
   "metadata": {},
   "outputs": [],
   "source": [
    "#some cleaning on columns type\n",
    "df_users['Movie_Id']=df_users['Movie_Id'].astype(int)\n",
    "df_users['Rating']=df_users['Rating'].astype(int)\n",
    "df_users['Cust_Id']=df_users['Cust_Id'].astype(int)\n"
   ]
  },
  {
   "cell_type": "code",
   "execution_count": 8,
   "metadata": {},
   "outputs": [],
   "source": [
    "#Merge between users data and movie title.\n",
    "main_df = pd.merge(df_users, movie_titles_df, on='Movie_Id', how='left')"
   ]
  },
  {
   "cell_type": "code",
   "execution_count": 9,
   "metadata": {},
   "outputs": [
    {
     "name": "stdout",
     "output_type": "stream",
     "text": [
      "Dropped 965 rows\n"
     ]
    }
   ],
   "source": [
    "# Drop missing values in 'Year' column \n",
    "len_before_drop = len(main_df)\n",
    "main_df = main_df.dropna()\n",
    "print(f\"Dropped {len_before_drop - len(main_df)} rows\")"
   ]
  },
  {
   "cell_type": "code",
   "execution_count": 10,
   "metadata": {},
   "outputs": [],
   "source": [
    "#convert 'Year' to int\n",
    "main_df['Year'] = main_df['Year'].astype(int)"
   ]
  },
  {
   "cell_type": "markdown",
   "metadata": {},
   "source": [
    "The dataset contains over **100 million rows**. It is necessary to filter part of the data to be able to use it.  \n",
    "The dataset will be cleaned according to several conditions:\n",
    "- Movies with too few reviews\n",
    "- Users who gave too few reviews\n",
    "- Movies rated under 4\n",
    "- Movies released before 2000"
   ]
  },
  {
   "cell_type": "markdown",
   "metadata": {},
   "source": [
    "For that, it is necessary to determines both thesholds"
   ]
  },
  {
   "cell_type": "code",
   "execution_count": 37,
   "metadata": {},
   "outputs": [
    {
     "name": "stdout",
     "output_type": "stream",
     "text": [
      "Movie minimum times of review: 2670.0\n"
     ]
    }
   ],
   "source": [
    "#compute movie_min_reviews\n",
    "f = ['count','mean']\n",
    "\n",
    "df_movie_summary = main_df.groupby('Movie_Id')['Rating'].agg(f)\n",
    "df_movie_summary.index = df_movie_summary.index.map(int)\n",
    "movie_benchmark = round(df_movie_summary['count'].quantile(0.75),0)\n",
    "drop_movie_list = df_movie_summary[df_movie_summary['count'] < movie_benchmark].index\n",
    "print('Movie minimum times of review: {}'.format(movie_benchmark))"
   ]
  },
  {
   "cell_type": "code",
   "execution_count": 38,
   "metadata": {},
   "outputs": [
    {
     "name": "stdout",
     "output_type": "stream",
     "text": [
      "Customer minimum times of review: 259.0\n"
     ]
    }
   ],
   "source": [
    "#compute users_min_reviews\n",
    "df_cust_summary = main_df.groupby('Cust_Id')['Rating'].agg(f)\n",
    "df_cust_summary.index = df_cust_summary.index.map(int)\n",
    "cust_benchmark = round(df_cust_summary['count'].quantile(0.75),0)\n",
    "drop_cust_list = df_cust_summary[df_cust_summary['count'] < cust_benchmark].index\n",
    "print('Customer minimum times of review: {}'.format(cust_benchmark))"
   ]
  },
  {
   "cell_type": "code",
   "execution_count": 39,
   "metadata": {},
   "outputs": [],
   "source": [
    "#compute the drop list of movies under 4 rating\n",
    "df_4rated_movies = main_df.groupby('Movie_Id')['Rating'].agg(['mean'])\n",
    "df_4rated_movies.index = df_4rated_movies.index.map(int)\n",
    "drop_ratedmovie_list = df_4rated_movies[df_4rated_movies['mean'] < 4].index"
   ]
  },
  {
   "cell_type": "code",
   "execution_count": 64,
   "metadata": {},
   "outputs": [
    {
     "name": "stdout",
     "output_type": "stream",
     "text": [
      "raw dataset shape : (100479542, 5)\n"
     ]
    },
    {
     "name": "stderr",
     "output_type": "stream",
     "text": [
      "C:\\Users\\renau\\AppData\\Local\\Temp\\ipykernel_212756\\3215412134.py:3: UserWarning: Boolean Series key will be reindexed to match DataFrame index.\n",
      "  filtered_df = filtered_df[~main_df['Movie_Id'].isin(drop_ratedmovie_list)]\n",
      "C:\\Users\\renau\\AppData\\Local\\Temp\\ipykernel_212756\\3215412134.py:5: UserWarning: Boolean Series key will be reindexed to match DataFrame index.\n",
      "  filtered_df = filtered_df[~main_df['Cust_Id'].isin(drop_cust_list)]\n"
     ]
    },
    {
     "name": "stdout",
     "output_type": "stream",
     "text": [
      "filtered dataset shape : (2717442, 5)\n"
     ]
    }
   ],
   "source": [
    "print(f\"raw dataset shape : {main_df.shape}\")\n",
    "filtered_df = main_df[~main_df['Movie_Id'].isin(drop_movie_list)]\n",
    "filtered_df = filtered_df[~main_df['Movie_Id'].isin(drop_ratedmovie_list)]\n",
    "filtered_df = filtered_df.loc[filtered_df['Year'] > 2000]\n",
    "filtered_df = filtered_df[~main_df['Cust_Id'].isin(drop_cust_list)]\n",
    "print(f\"filtered dataset shape : {filtered_df.shape}\")"
   ]
  },
  {
   "cell_type": "code",
   "execution_count": 65,
   "metadata": {},
   "outputs": [],
   "source": [
    "filtered_df.to_csv('src/filtered_data.csv', index=False)"
   ]
  },
  {
   "cell_type": "code",
   "execution_count": 73,
   "metadata": {},
   "outputs": [],
   "source": [
    "#export movie title list for filtering Jedha API results\n",
    "list_title = pd.DataFrame(filtered_df['Title'].unique(), columns=['Title'])\n",
    "list_title.to_csv('src/list_title.csv', index=False)"
   ]
  }
 ],
 "metadata": {
  "kernelspec": {
   "display_name": "netflix",
   "language": "python",
   "name": "python3"
  },
  "language_info": {
   "codemirror_mode": {
    "name": "ipython",
    "version": 3
   },
   "file_extension": ".py",
   "mimetype": "text/x-python",
   "name": "python",
   "nbconvert_exporter": "python",
   "pygments_lexer": "ipython3",
   "version": "3.10.15"
  }
 },
 "nbformat": 4,
 "nbformat_minor": 2
}
